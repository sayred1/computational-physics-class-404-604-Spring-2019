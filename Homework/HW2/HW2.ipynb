{
 "cells": [
  {
   "cell_type": "markdown",
   "metadata": {},
   "source": [
    "## 1) \n",
    "#### Calculate and plot Fn/Fn-1 with n using memorization method"
   ]
  },
  {
   "cell_type": "code",
   "execution_count": 1,
   "metadata": {},
   "outputs": [],
   "source": [
    "#memorization method\n",
    "def fib3(n, table):\n",
    "    if n == 0 or n==1:\n",
    "        table[n]=n\n",
    "    if table[n] is None:\n",
    "        table[n] = fib3(n-2,table)+fib3(n-1,table)\n",
    "    return table[n]"
   ]
  },
  {
   "cell_type": "code",
   "execution_count": 2,
   "metadata": {},
   "outputs": [
    {
     "name": "stderr",
     "output_type": "stream",
     "text": [
      "/Users/b_eebs/anaconda3/lib/python3.6/site-packages/ipykernel_launcher.py:6: RuntimeWarning: divide by zero encountered in long_scalars\n",
      "  \n"
     ]
    }
   ],
   "source": [
    "import numpy as np\n",
    "g_ratio = [] #list of ratio values\n",
    "x = np.arange(0,41) #list of n values\n",
    "for i in range(len(x)): \n",
    "    table = [None]*(x.shape[0])\n",
    "    g_ratio.append(fib3(x[i],table)/fib3(x[i-1],table)) #calculate Fn/Fn-1 for values of n "
   ]
  },
  {
   "cell_type": "code",
   "execution_count": 3,
   "metadata": {},
   "outputs": [
    {
     "data": {
      "image/png": "[encoded data removed]",
      "text/plain": [
       "<Figure size 504x360 with 1 Axes>"
      ]
     },
     "metadata": {},
     "output_type": "display_data"
    }
   ],
   "source": [
    "import matplotlib.pyplot as plt\n",
    "%matplotlib inline\n",
    "\n",
    "plt.figure(figsize=(7,5))\n",
    "plt.title('Fn/Fn-1 vs. n')\n",
    "plt.xlabel('n')\n",
    "plt.ylabel('Fn/Fn-1')\n",
    "plt.axis([min(x), max(x)+2, 0.9, 2.1]) #setting axis size\n",
    "plt.plot(x,g_ratio,'--ro',markersize=7)\n",
    "plt.show()"
   ]
  },
  {
   "cell_type": "markdown",
   "metadata": {},
   "source": [
    "## 2) \n",
    "#### a) Use the iteration method, tabulation method,  and matrix method to calculate the time spent for different n (e.g. 1, 10, 100, 1000, 10000, ...uniform in the log space). \n",
    "#### b) For each method, output the time and n into a filec) Read from the file and plot log(time) (y-axis) vs. log(n) (x-axis) for different methods"
   ]
  },
  {
   "cell_type": "code",
   "execution_count": 4,
   "metadata": {},
   "outputs": [],
   "source": [
    "def fib(n,x): #function containing recursion, tabulation, and matrix methods\n",
    "    \"\"\"\n",
    "    x is a function parameter that decides which method to use\n",
    "    \"\"\"\n",
    "    #recursion\n",
    "    if x == 0:\n",
    "        if n == 0:\n",
    "            return 0\n",
    "        elif n == 1: \n",
    "            return 1\n",
    "        else:\n",
    "            return(fib(n-2,x) + fib(n-1,x))\n",
    "    \n",
    "    #tabulation\n",
    "    elif x == 1: #\n",
    "        table=[0]*(n+1)\n",
    "        table[1] = 1\n",
    "        for i in range(2,n+1):\n",
    "            table[i] = table[i-2]+table[i-1]\n",
    "        return table[n]\n",
    "    \n",
    "    #matrix\n",
    "    else:\n",
    "        arr= [[1,1],[1,0]]\n",
    "        f=arrpow(arr,n-1)[0][0]\n",
    "        return f\n",
    "\n",
    "#function called by matrix method\n",
    "def arrpow(arr, n):\n",
    "    yarr=arr\n",
    "    if n<1:\n",
    "        print('n needs to be larger than 1')\n",
    "    if n==1:\n",
    "        return arr\n",
    "    yarr = arrpow(arr, n//2)\n",
    "    yarr = [[yarr[0][0]*yarr[0][0]+yarr[0][1]*yarr[1][0],yarr[0][0]*yarr[0][1]+yarr[0][1]*yarr[1][1]],\n",
    "            [yarr[1][0]*yarr[0][0]+yarr[1][1]*yarr[1][0],yarr[1][0]*yarr[0][1]+yarr[1][1]*yarr[1][1]]]\n",
    "    if n%2: #if == 1\n",
    "        yarr=[[yarr[0][0]*arr[0][0]+yarr[0][1]*arr[1][0],yarr[0][0]*arr[0][1]+yarr[0][1]*arr[1][1]],\n",
    "            [yarr[1][0]*arr[0][0]+yarr[1][1]*arr[1][0],yarr[1][0]*arr[0][1]+yarr[1][1]*arr[1][1]]]\n",
    "    return yarr\n",
    "\n",
    "#function to write to files\n",
    "def write_to_file(n,time,method): \n",
    "#add column titles maybe\n",
    "    import csv\n",
    "    with open(method+'.csv','a') as f:\n",
    "        write = csv.writer(f, delimiter=',') #sets delimiter to ,\n",
    "        write.writerow([str(n),str(time)]) #writes n and time to row\n",
    "        \n",
    "#function to read from files and return lists of results\n",
    "def read_from_file(file):\n",
    "    import csv\n",
    "    n = []\n",
    "    times = []\n",
    "    with open(file, 'r') as f:\n",
    "        reader = csv.reader(f)\n",
    "        for row in reader:\n",
    "            n.append(float(row[0]))\n",
    "            times.append(float(row[1]))\n",
    "        return(n,times)"
   ]
  },
  {
   "cell_type": "code",
   "execution_count": 5,
   "metadata": {},
   "outputs": [],
   "source": [
    "#part a \n",
    "#just add all of these calculations to the functions\n",
    "import time\n",
    "n = np.logspace(1,10,10,True,10,int) #array of n values from 10 to .... 10**10 , uniform in log space \n",
    "n = np.insert(n,0,1) #add 1 to n\n",
    "\n",
    "method = ['recursion','tabulation','matrix'] #list of methods used when calling write_to_file\n",
    "\n",
    "for i in range(len(method)):\n",
    "    if i == 0: #loops over 1 and 10 for recursion method\n",
    "        loop = range(len(n)-9)\n",
    "    else: #loops over 1 - 100,000 for tabulation and matrix method\n",
    "        loop = range(len(n)-5)\n",
    "    for j in loop:\n",
    "        if i == 2 and n[j] == 1: #filters out the 1 when calculating matrix method, sets time = 0 @ n=1\n",
    "            write_to_file(loop[j],0,method[i])\n",
    "        else: #calculates the time it takes for fibonacci calculations for all methods\n",
    "            ti = time.time()\n",
    "            fib(n[j],i) #calculates fibonacci, i tells function which method to use\n",
    "            tf = time.time()\n",
    "            write_to_file(n[j],tf-ti,method[i]) #writes n, time, and method to write_to_file"
   ]
  },
  {
   "cell_type": "code",
   "execution_count": 6,
   "metadata": {
    "scrolled": true
   },
   "outputs": [
    {
     "data": {
      "image/png": "[encoded data removed]",
      "text/plain": [
       "<Figure size 1080x360 with 1 Axes>"
      ]
     },
     "metadata": {},
     "output_type": "display_data"
    }
   ],
   "source": [
    "plt.figure(figsize=(15,5))\n",
    "#logs scales \n",
    "plt.title('Time Spent Calculating Fibonacci Numbers')\n",
    "#logs scales \n",
    "plt.xlabel('n')\n",
    "plt.xscale('log')\n",
    "plt.ylabel('Time (s)')\n",
    "plt.yscale('log')\n",
    "#for loop to read from each file and plot results\n",
    "for i in method:\n",
    "    x,y = read_from_file(i+'.csv')\n",
    "    plt.plot(x,y,'+',label=(i+' method'),markersize=12)\n",
    "plt.legend(loc='upper left')\n",
    "plt.show()\n"
   ]
  },
  {
   "cell_type": "code",
   "execution_count": null,
   "metadata": {},
   "outputs": [],
   "source": []
  }
 ],
 "metadata": {
  "kernelspec": {
   "display_name": "Python 3",
   "language": "python",
   "name": "python3"
  },
  "language_info": {
   "codemirror_mode": {
    "name": "ipython",
    "version": 3
   },
   "file_extension": ".py",
   "mimetype": "text/x-python",
   "name": "python",
   "nbconvert_exporter": "python",
   "pygments_lexer": "ipython3",
   "version": "3.7.1"
  }
 },
 "nbformat": 4,
 "nbformat_minor": 2
}
