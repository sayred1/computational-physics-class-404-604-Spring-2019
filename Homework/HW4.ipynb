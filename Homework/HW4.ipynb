{
 "cells": [
  {
   "cell_type": "markdown",
   "metadata": {},
   "source": [
    "## Dean Sayre\n",
    "## Homework 4\n",
    "## Physics 404"
   ]
  },
  {
   "cell_type": "markdown",
   "metadata": {},
   "source": [
    "$x_1^2+x_1x_2=10$ \n",
    "\n",
    "$x_2+3x_1x_2^2=57$\n",
    "\n",
    "#### Homework: using Newton-Raphson method to solve above equation arrays Hint: first you need to derive the partical derivative of the equation arrays. You can do it either  analytically by hand or numerically using method we learned in the last lecture."
   ]
  },
  {
   "cell_type": "code",
   "execution_count": 117,
   "metadata": {},
   "outputs": [],
   "source": [
    "import numpy as np\n",
    "\n",
    "def Newton_system(F, J, x, eps):\n",
    "    F_value = F(x) #value of both functions with arg x\n",
    "    F_norm = np.linalg.norm(F_value, ord=2)  #euclidean norm\n",
    "    counter = 0\n",
    "    while abs(F_norm) > eps and counter < 100:\n",
    "        x = x + np.linalg.solve(J(x), -F_value)\n",
    "        F_value = F(x) #replace orginal with F(new x)\n",
    "        F_norm = np.linalg.norm(F_value, ord=2) #euclidean norm\n",
    "        counter += 1\n",
    "    if abs(F_norm) > eps: #fails!\n",
    "        counter = -1\n",
    "    return x, counter\n",
    "\n",
    "#functions in an array\n",
    "def F(x):\n",
    "    return np.array([x[0]**2 + x[0]*x[1] - 10,x[1]+3*x[0]*x[1]**2 - 57])\n",
    "\n",
    "#solving the jacobian by hand\n",
    "def J(x):\n",
    "    return np.array([[2*x[0]+x[1],x[0]],[3*x[1]**2,1+6*x[0]*x[1]]])"
   ]
  },
  {
   "cell_type": "code",
   "execution_count": 128,
   "metadata": {},
   "outputs": [
    {
     "name": "stdout",
     "output_type": "stream",
     "text": [
      "number of tries: 5 \n",
      " roots: 1.9999998110162422 , 3.000000058050752\n"
     ]
    }
   ],
   "source": [
    "x = np.array([1,1])\n",
    "root, n = Newton_system(F, J, x, eps=0.0001)\n",
    "print('number of tries:',n,'\\n roots:', root[0],',',root[1])"
   ]
  },
  {
   "cell_type": "code",
   "execution_count": null,
   "metadata": {},
   "outputs": [],
   "source": []
  },
  {
   "cell_type": "code",
   "execution_count": null,
   "metadata": {},
   "outputs": [],
   "source": []
  },
  {
   "cell_type": "markdown",
   "metadata": {},
   "source": [
    "# Homework: Use the linalg package, LU decompositin, and GaussSeidel method to solve 2y+z=-8, x-2y-3z=0, -x+y+2z=3"
   ]
  },
  {
   "cell_type": "code",
   "execution_count": 26,
   "metadata": {},
   "outputs": [],
   "source": [
    "import numpy as np\n",
    "A=np.array([[0,2,1],[1,-2,-3],[-1,1,2]])\n",
    "b=np.array([-8,0,3])"
   ]
  },
  {
   "cell_type": "code",
   "execution_count": 27,
   "metadata": {},
   "outputs": [
    {
     "name": "stdout",
     "output_type": "stream",
     "text": [
      "x = [-4. -5.  2.]\n"
     ]
    }
   ],
   "source": [
    "#linalg package\n",
    "_x_y_z = np.linalg.solve(A,b)\n",
    "print('x =',_x_y_z)"
   ]
  },
  {
   "cell_type": "code",
   "execution_count": 37,
   "metadata": {},
   "outputs": [],
   "source": [
    "\n",
    "import numpy as np\n",
    "def LUFactor(a, ipivot, n):\n",
    "   det = 1e0\n",
    "   for j in range(n):                                 # loop over columns\n",
    "      for i in range(j):                             # elements of matrix U\n",
    "         sum = a[i][j]\n",
    "         for k in range(i): sum -= a[i][k]*a[k][j]\n",
    "         a[i][j] = sum\n",
    "\n",
    "      amax = 0e0\n",
    "      for i in range(j,n):                           # elements of matrix L\n",
    "         sum = a[i][j]                                 # undivided by pivot\n",
    "         for k in range(j): sum -= a[i][k]*a[k][j]\n",
    "         a[i][j] = sum\n",
    "                                                            # determine pivot\n",
    "         if (amax < np.fabs(a[i][j])): amax = np.fabs(a[i][j]); imax = i\n",
    "\n",
    "      if (amax == 0e0): print(\"LUFactor: singular matrix !\"); return 0e0\n",
    "\n",
    "      ipivot[j] = imax                                # store pivot row index\n",
    "                                                # interchange rows imax and j\n",
    "      if (imax != j):                           # to put pivot on diagonal\n",
    "         det = -det\n",
    "         for k in range(n):\n",
    "            t = a[imax][k]; a[imax][k] = a[j][k]; a[j][k] = t\n",
    "\n",
    "      det *= a[j][j]                        # multiply determinant with pivot\n",
    "\n",
    "      t = 1e0/a[j][j]                         # divide elements of L by pivot\n",
    "      for i in range(j+1,n): a[i][j] *= t\n",
    "\n",
    "   return det\n",
    "\n",
    "def LUSystem(a, ipivot, b, n):\n",
    "   for i in range(n):                                     # solves Ly = b\n",
    "      sum = b[int(ipivot[i])]\n",
    "      b[int(ipivot[i])] = b[i]\n",
    "      for j in range(i): sum -= a[i][j]*b[j]\n",
    "      b[i] = sum\n",
    "\n",
    "   for i in range(n-1,-1,-1):                                    # solves Ux = y\n",
    "      sum = b[i]\n",
    "      for j in range(i+1,n): sum -= a[i][j]*b[j]\n",
    "      b[i] = sum/a[i][i]"
   ]
  },
  {
   "cell_type": "code",
   "execution_count": 42,
   "metadata": {},
   "outputs": [
    {
     "name": "stdout",
     "output_type": "stream",
     "text": [
      "x = [-4. -5.  2.]\n"
     ]
    }
   ],
   "source": [
    "#LU decomposition\n",
    "import numpy as np\n",
    "A=np.array([[0,2,1],[1,-2,-3],[-1,1,2]])\n",
    "b=np.array([-8,0,3])\n",
    "AA=np.copy(A)    #deep copy of an array\n",
    "bb=np.copy(b)    #deep copy of an array\n",
    "ipivot=np.zeros(3)\n",
    "de=LUFactor(A,ipivot,3)\n",
    "LUSystem(A,ipivot,b,3)\n",
    "print('x =', x)"
   ]
  },
  {
   "cell_type": "code",
   "execution_count": 28,
   "metadata": {},
   "outputs": [],
   "source": [
    "def GaussSeidel(a, b, x, n, init):\n",
    "   eps = 1e-15                                 # relative precision criterion\n",
    "   itmax = 10000                                    # max no. of iterations\n",
    "\n",
    "   s = [[0]*(n) for i in range(n)]           # matrices of reduced system\n",
    "   t = [0]*(n)\n",
    "\n",
    "   for i in range(n):                         # matrices of normal system\n",
    "      for j in range(i+1):                      # by multiplication with aT\n",
    "         s[i][j] = 0e0                            # store result in s and t\n",
    "         for k in range(n): s[i][j] += a[k][i]*a[k][j]\n",
    "         s[j][i] = s[i][j]\n",
    "\n",
    "      t[i] = 0e0\n",
    "      for j in range(n): t[i] += a[j][i]*b[j]\n",
    "\n",
    "   for i in range(n):                # matrices s and t of reduced system\n",
    "      f = -1e0/s[i][i]; t[i] /= s[i][i]\n",
    "      for j in range(n): s[i][j] *= f\n",
    "\n",
    "   if (init):\n",
    "      for i in range(n): x[i] = t[i]                # initialize solution\n",
    "\n",
    "   for k in range(itmax):                            # loop of iterations\n",
    "      err = 0e0\n",
    "      for i in range(n):\n",
    "         delta = t[i]                                            # correction\n",
    "         for j in range(n): delta += s[i][j]*x[j]\n",
    "         x[i] += delta                        # new approximation to solution\n",
    "         if (x[i]): delta /= x[i]                            # relative error\n",
    "         if (np.fabs(delta) > err): err = np.fabs(delta)            # maximum error\n",
    "       #  print('delta,err',delta,err)\n",
    "            \n",
    "      if (err <= eps): break                              # check convergence\n",
    "\n",
    "   if (k > itmax-2): print(\"GaussSeidel: max. no. of iterations exceeded !\")\n",
    "    \n",
    "   return err"
   ]
  },
  {
   "cell_type": "code",
   "execution_count": 31,
   "metadata": {},
   "outputs": [
    {
     "name": "stdout",
     "output_type": "stream",
     "text": [
      "x = [-4. -5.  2.]\n"
     ]
    }
   ],
   "source": [
    "#gauss seidel mathod\n",
    "A=np.array([[0,2,1],[1,-2,-3],[-1,1,2]])\n",
    "b=np.array([-8,0,3])\n",
    "_x_y_z=np.ones(3)\n",
    "GaussSeidel(A, b, x, 3, 1)\n",
    "print('x =', x)"
   ]
  },
  {
   "cell_type": "code",
   "execution_count": null,
   "metadata": {},
   "outputs": [],
   "source": []
  }
 ],
 "metadata": {
  "kernelspec": {
   "display_name": "Python 3",
   "language": "python",
   "name": "python3"
  },
  "language_info": {
   "codemirror_mode": {
    "name": "ipython",
    "version": 3
   },
   "file_extension": ".py",
   "mimetype": "text/x-python",
   "name": "python",
   "nbconvert_exporter": "python",
   "pygments_lexer": "ipython3",
   "version": "3.7.1"
  }
 },
 "nbformat": 4,
 "nbformat_minor": 2
}
