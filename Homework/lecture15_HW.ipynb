{
 "cells": [
  {
   "cell_type": "markdown",
   "metadata": {},
   "source": [
    "Dean Sayre\n",
    "Lecture 15 Homework"
   ]
  },
  {
   "cell_type": "markdown",
   "metadata": {},
   "source": [
    "## Solve the potential of a line mass (i.e. one zone at x=50, y=50 with nonzero density and all others with zero density)using SOR. "
   ]
  },
  {
   "cell_type": "code",
   "execution_count": null,
   "metadata": {},
   "outputs": [
    {
     "name": "stdout",
     "output_type": "stream",
     "text": [
      "Initializing\n"
     ]
    }
   ],
   "source": [
    "import matplotlib.pylab as plt\n",
    "from mpl_toolkits.mplot3d import Axes3D\n",
    "from numpy import *\n",
    "import numpy as np\n",
    "import sys\n",
    "print(\"Initializing\")\n",
    "omega=1.8\n",
    "Nmax = 100; Niter = 3000; V = zeros((Nmax, Nmax), float)   \n",
    "\n",
    "G = 1.\n",
    "rho = 1. \n",
    "V[50,50] = 1 # boundary condition: one zone at x=50, y=50 with nonzero density\n",
    "\n",
    "for iter in range(Niter):                                  \n",
    "    maxerr=0.\n",
    "    for i in range(1, Nmax-1):                                                \n",
    "        for j in range(1,Nmax-1):\n",
    "            # boundary condition: all others with zero density\n",
    "            if j != 50 or i != 50: \n",
    "                du = 0.25*(V[i+1,j]+V[i-1,j]+V[i,j+1]+V[i,j-1])-V[i,j]\n",
    "                if(maxerr<abs(du)):\n",
    "                    maxerr=abs(du)\n",
    "                V[i,j] = V[i,j] + omega*du\n",
    "    if(maxerr<1.e-3):\n",
    "        break\n",
    "            \n",
    "x = range(0, Nmax, 1)\n",
    "y = range(0, Nmax, 1)                              \n",
    "X, Y = plt.meshgrid(x,y)                 \n",
    "\n",
    "def functz(V):                                      \n",
    "    z = V[X,Y]                        \n",
    "    return z\n",
    "\n",
    "Z = functz(V) \n",
    "fig = plt.figure(figsize=(10, 8))\n",
    "ax = Axes3D(fig)                                      \n",
    "ax.plot_wireframe(X, Y, Z, color = 'r')               \n",
    "ax.set_xlabel('X')                                     \n",
    "ax.set_ylabel('Y')\n",
    "ax.set_zlabel('Electric Potential of Line Charge')\n",
    "plt.show()"
   ]
  },
  {
   "cell_type": "code",
   "execution_count": null,
   "metadata": {},
   "outputs": [],
   "source": [
    "c=1\n",
    "mu=1\n",
    "func = lambda r: -2*G*0.1*np.log(r)+c\n",
    "V_th = []\n",
    "for i in range(0,100):\n",
    "    V_th.append(func(i+1))\n",
    "\n",
    "fig = plt.figure(figsize=(10,8))\n",
    "plt.xlabel('Distance')\n",
    "plt.ylabel('Electric Potential')\n",
    "plt.plot(x[50:],Z[50,50:],label='calculated')\n",
    "x = np.linspace(50,100,100) # redefine x range from 0,50 to 0,100 to compare calculated and expected\n",
    "plt.plot(x,V_th,label='predicted')\n",
    "plt.legend(loc='best')\n",
    "plt.show()"
   ]
  },
  {
   "cell_type": "markdown",
   "metadata": {},
   "source": [
    "## As can be seen form above, the potential does have radial on the close to 2*G*0.1*np.log(r)+c. At the location of the line chage, r = 50, the electric potential is at its maximum. Both in calculation and from theory. "
   ]
  },
  {
   "cell_type": "code",
   "execution_count": null,
   "metadata": {},
   "outputs": [],
   "source": []
  }
 ],
 "metadata": {
  "kernelspec": {
   "display_name": "Python 3",
   "language": "python",
   "name": "python3"
  },
  "language_info": {
   "codemirror_mode": {
    "name": "ipython",
    "version": 3
   },
   "file_extension": ".py",
   "mimetype": "text/x-python",
   "name": "python",
   "nbconvert_exporter": "python",
   "pygments_lexer": "ipython3",
   "version": "3.7.1"
  }
 },
 "nbformat": 4,
 "nbformat_minor": 2
}
