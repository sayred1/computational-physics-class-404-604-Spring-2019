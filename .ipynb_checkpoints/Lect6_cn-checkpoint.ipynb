{
 "cells": [
  {
   "cell_type": "code",
   "execution_count": 4,
   "metadata": {},
   "outputs": [
    {
     "name": "stdout",
     "output_type": "stream",
     "text": [
      "[1 2 3 4 5]\n",
      "[[0 2]\n",
      " [1 3]]\n",
      "1\n"
     ]
    }
   ],
   "source": [
    "### we can use list to represent array\n",
    "a=[1,2,3]\n",
    "\n",
    "### but normally use Numpy package, has a lot more support for numerical arrays\n",
    "\n",
    "import numpy as np\n",
    "vector1 = np.array([1, 2, 3, 4, 5])\n",
    "matrix1 = np.array([[0,2],[1,3]])\n",
    "print(vector1)\n",
    "print(matrix1)\n",
    "\n",
    "# How to print the element at the first row and the second column\n",
    "print(matrix1[1,0])\n",
    "\n"
   ]
  },
  {
   "cell_type": "code",
   "execution_count": 3,
   "metadata": {},
   "outputs": [
    {
     "name": "stdout",
     "output_type": "stream",
     "text": [
      "[[0 4]\n",
      " [1 9]]\n"
     ]
    }
   ],
   "source": [
    "#Notice that * operation is element operation\n",
    "print(matrix1*matrix1)"
   ]
  },
  {
   "cell_type": "code",
   "execution_count": 5,
   "metadata": {},
   "outputs": [
    {
     "data": {
      "text/plain": [
       "array([ 0,  1,  2,  3,  4,  5,  6,  7,  8,  9, 10, 11])"
      ]
     },
     "execution_count": 5,
     "metadata": {},
     "output_type": "execute_result"
    }
   ],
   "source": [
    "import numpy as np\n",
    "np.arange(12)  # list of 12 ints"
   ]
  },
  {
   "cell_type": "code",
   "execution_count": 6,
   "metadata": {},
   "outputs": [
    {
     "data": {
      "text/plain": [
       "array([[ 0,  1,  2,  3],\n",
       "       [ 4,  5,  6,  7],\n",
       "       [ 8,  9, 10, 11]])"
      ]
     },
     "execution_count": 6,
     "metadata": {},
     "output_type": "execute_result"
    }
   ],
   "source": [
    "np.arange(12).reshape(3,4) # create, shape to 3x4 array (3 rows, 4 columns)"
   ]
  },
  {
   "cell_type": "code",
   "execution_count": 7,
   "metadata": {},
   "outputs": [
    {
     "data": {
      "text/plain": [
       "(3, 4)"
      ]
     },
     "execution_count": 7,
     "metadata": {},
     "output_type": "execute_result"
    }
   ],
   "source": [
    "a=np.arange(12).reshape(3,4)\n",
    "a.shape # shape"
   ]
  },
  {
   "cell_type": "code",
   "execution_count": 8,
   "metadata": {},
   "outputs": [
    {
     "data": {
      "text/plain": [
       "2"
      ]
     },
     "execution_count": 8,
     "metadata": {},
     "output_type": "execute_result"
    }
   ],
   "source": [
    "a.ndim # dimension"
   ]
  },
  {
   "cell_type": "code",
   "execution_count": 9,
   "metadata": {},
   "outputs": [
    {
     "data": {
      "text/plain": [
       "12"
      ]
     },
     "execution_count": 9,
     "metadata": {},
     "output_type": "execute_result"
    }
   ],
   "source": [
    "a.size # size of a (number of elements)\n"
   ]
  },
  {
   "cell_type": "code",
   "execution_count": 10,
   "metadata": {},
   "outputs": [
    {
     "data": {
      "text/plain": [
       "array([[ 0,  4,  8],\n",
       "       [ 1,  5,  9],\n",
       "       [ 2,  6, 10],\n",
       "       [ 3,  7, 11]])"
      ]
     },
     "execution_count": 10,
     "metadata": {},
     "output_type": "execute_result"
    }
   ],
   "source": [
    "a.T  # transpose method\n"
   ]
  },
  {
   "cell_type": "code",
   "execution_count": 11,
   "metadata": {},
   "outputs": [
    {
     "name": "stdout",
     "output_type": "stream",
     "text": [
      "[[ 0  1  2  3]\n",
      " [ 4  5  6  7]\n",
      " [ 8  9 10 11]]\n",
      "[[0 1 2 3]\n",
      " [4 5 6 7]]\n",
      "[0.         0.         0.         1.         1.41421356 1.73205081\n",
      " 2.         0.         0.         0.        ]\n"
     ]
    }
   ],
   "source": [
    "print(a)\n",
    "# Slicing\n",
    "print(a[:2, :])  # 0:2 means 0 and 1, first two rows\n",
    "\n",
    "stuff= np.zeros(10, float) # one way to initialize an array\n",
    "t=np.arange(4)\n",
    "stuff[3:7]=np.sqrt(t+1) #notice that it can imput an array and output an array.\n",
    "print(stuff)"
   ]
  },
  {
   "cell_type": "code",
   "execution_count": 12,
   "metadata": {},
   "outputs": [
    {
     "name": "stdout",
     "output_type": "stream",
     "text": [
      "[3. 3. 3. 3. 3. 3. 3. 3. 3. 3.]\n"
     ]
    }
   ],
   "source": [
    "# initialize array with some value\n",
    "stuff= np.ones(10, float)*3.\n",
    "print(stuff)"
   ]
  },
  {
   "cell_type": "code",
   "execution_count": 46,
   "metadata": {},
   "outputs": [
    {
     "name": "stdout",
     "output_type": "stream",
     "text": [
      "[[ 9. 13.  5.  2.]\n",
      " [ 1. 11.  7.  6.]\n",
      " [ 3.  7.  4.  1.]\n",
      " [ 6.  1.  7. 10.]]\n",
      "[ 7.  8.  9. 10.]\n"
     ]
    }
   ],
   "source": [
    "# Write a program to carry out the dot product of matrix A and vector B\n",
    "import numpy as np\n",
    "a=np.array([[9.,13.,5.,2.],[1.,11.,7.,6.],[3.,7.,4.,1.],[6.,1.,7.,10.]])\n",
    "b=np.array([7.,8.,9.,10.])\n",
    "c=np.zeros(4)\n",
    "\n",
    "print(a)\n",
    "print(b)"
   ]
  },
  {
   "cell_type": "code",
   "execution_count": 47,
   "metadata": {},
   "outputs": [
    {
     "name": "stdout",
     "output_type": "stream",
     "text": [
      "[232. 218. 123. 213.]\n"
     ]
    }
   ],
   "source": [
    "\n",
    "for i in range(4):\n",
    "    for j in range(4):\n",
    "        c[i] += a[i][j]*b[j]\n",
    "print(c)"
   ]
  },
  {
   "cell_type": "code",
   "execution_count": 28,
   "metadata": {},
   "outputs": [
    {
     "data": {
      "text/plain": [
       "array([232., 218., 123., 213.])"
      ]
     },
     "execution_count": 28,
     "metadata": {},
     "output_type": "execute_result"
    }
   ],
   "source": [
    "import numpy as np\n",
    "np.dot(a,b)\n"
   ]
  },
  {
   "cell_type": "code",
   "execution_count": 29,
   "metadata": {},
   "outputs": [
    {
     "name": "stdout",
     "output_type": "stream",
     "text": [
      "[[ 1.  3.]\n",
      " [ 3. 10.]]\n"
     ]
    }
   ],
   "source": [
    "# array can be float, complex types... \n",
    "# If you want matrix dot \n",
    "matrix1 = np.array([[0.,1.],[1.,3.]])\n",
    "print(np.dot(matrix1,matrix1))"
   ]
  },
  {
   "cell_type": "code",
   "execution_count": 30,
   "metadata": {},
   "outputs": [
    {
     "name": "stdout",
     "output_type": "stream",
     "text": [
      "[[0. 1.]\n",
      " [1. 9.]]\n"
     ]
    }
   ],
   "source": [
    "# if you want element product\n",
    "print(matrix1*matrix1)"
   ]
  },
  {
   "cell_type": "code",
   "execution_count": 31,
   "metadata": {},
   "outputs": [
    {
     "name": "stdout",
     "output_type": "stream",
     "text": [
      "[[0. 1.]\n",
      " [1. 9.]]\n"
     ]
    }
   ],
   "source": [
    "#or\n",
    "print(np.multiply(matrix1,matrix1))"
   ]
  },
  {
   "cell_type": "code",
   "execution_count": 32,
   "metadata": {},
   "outputs": [
    {
     "name": "stdout",
     "output_type": "stream",
     "text": [
      "[[  1.   2.   3.]\n",
      " [ 22.  32.  42.]\n",
      " [ 55.  66. 100.]] [1. 2. 3.]\n"
     ]
    }
   ],
   "source": [
    "import numpy as np\n",
    "A= np.array([[1.,2.,3.],[22.,32.,42],[55.,66.,100.]])\n",
    "b = np.array([1.,2.,3.])\n",
    "print(A,b)"
   ]
  },
  {
   "cell_type": "code",
   "execution_count": 33,
   "metadata": {},
   "outputs": [
    {
     "name": "stdout",
     "output_type": "stream",
     "text": [
      "x= [-1.4057971  -0.1884058   0.92753623]\n",
      "Residual=  [ 0.00000000e+00 -7.10542736e-15  0.00000000e+00]\n"
     ]
    }
   ],
   "source": [
    "\n",
    "# Method 1. Solve Ax=b directly\n",
    "x=np.linalg.solve(A,b)\n",
    "print('x=',x)\n",
    "print('Residual= ',np.dot(A,x)-b)"
   ]
  },
  {
   "cell_type": "code",
   "execution_count": 34,
   "metadata": {},
   "outputs": [
    {
     "name": "stdout",
     "output_type": "stream",
     "text": [
      "[-1.4057971  -0.1884058   0.92753623]\n"
     ]
    }
   ],
   "source": [
    "\n",
    "# Method 2. Solve Ax=b using the inversion of A\n",
    "B=np.linalg.inv(A)\n",
    "print(np.dot(B,b))"
   ]
  },
  {
   "cell_type": "code",
   "execution_count": 35,
   "metadata": {},
   "outputs": [
    {
     "name": "stdout",
     "output_type": "stream",
     "text": [
      "x= [-1.4057971  -0.1884058   0.92753623]\n",
      "Residual=  [4.44089210e-16 0.00000000e+00 1.42108547e-14]\n"
     ]
    }
   ],
   "source": [
    "\n",
    "print('x=', np.dot(B,b))\n",
    "print('Residual= ',np.dot(A,np.dot(B,b))-b)"
   ]
  },
  {
   "cell_type": "code",
   "execution_count": 36,
   "metadata": {},
   "outputs": [],
   "source": [
    "# Use above two methods to solve 2y+z=-8, x-2y-3z=0, -x+y+2z=3"
   ]
  },
  {
   "cell_type": "code",
   "execution_count": 37,
   "metadata": {},
   "outputs": [],
   "source": [
    "A= np.array([[0.,2.,1.],[1.,-2.,-3],[-1,1,2]])\n",
    "b = np.array([-8.,0.,3.])\n"
   ]
  },
  {
   "cell_type": "code",
   "execution_count": 38,
   "metadata": {},
   "outputs": [
    {
     "name": "stdout",
     "output_type": "stream",
     "text": [
      "x= [-4. -5.  2.]\n",
      "Residual=  [0. 0. 0.]\n"
     ]
    }
   ],
   "source": [
    "x=np.linalg.solve(A,b)\n",
    "print('x=',x)\n",
    "print('Residual= ',np.dot(A,x)-b)"
   ]
  },
  {
   "cell_type": "code",
   "execution_count": 40,
   "metadata": {},
   "outputs": [
    {
     "name": "stdout",
     "output_type": "stream",
     "text": [
      "[-4. -5.  2.]\n"
     ]
    }
   ],
   "source": [
    "B=np.linalg.inv(A)\n",
    "print(np.dot(B,b))"
   ]
  },
  {
   "cell_type": "code",
   "execution_count": 41,
   "metadata": {},
   "outputs": [
    {
     "name": "stdout",
     "output_type": "stream",
     "text": [
      "x= [-4. -5.  2.]\n",
      "Residual=  [0. 0. 0.]\n"
     ]
    }
   ],
   "source": [
    "print('x=', np.dot(B,b))\n",
    "print('Residual= ',np.dot(A,np.dot(B,b))-b)"
   ]
  },
  {
   "cell_type": "markdown",
   "metadata": {},
   "source": [
    "LU decomposition¶\n"
   ]
  },
  {
   "cell_type": "code",
   "execution_count": 51,
   "metadata": {},
   "outputs": [
    {
     "ename": "IndentationError",
     "evalue": "unexpected indent (<ipython-input-51-7cc2afa2c659>, line 14)",
     "output_type": "error",
     "traceback": [
      "\u001b[0;36m  File \u001b[0;32m\"<ipython-input-51-7cc2afa2c659>\"\u001b[0;36m, line \u001b[0;32m14\u001b[0m\n\u001b[0;31m    for j in range(n):                                 # loop over columns\u001b[0m\n\u001b[0m    ^\u001b[0m\n\u001b[0;31mIndentationError\u001b[0m\u001b[0;31m:\u001b[0m unexpected indent\n"
     ]
    }
   ],
   "source": [
    "import numpy as np\n",
    "#============================================================================\n",
    "def LUFactor(a, ipivot, n):\n",
    "# Copy right, code from Titus textbook. \n",
    "#----------------------------------------------------------------------------\n",
    "#  Performs LU factorization of (n x n) matrix a (diag(L) = 1). On exit,\n",
    "#  replaces upper triangle and diagonal with U, and lower triangle, with L.\n",
    "#  Uses partial pivoting on columns.\n",
    "#  a      - coefficient matrix (n x n); LU decomposition on exit\n",
    "#  ipivot - array of pivot row indexes (output)\n",
    "#  det    - determinant of coefficient matrix (output).\n",
    "#----------------------------------------------------------------------------\n",
    "   det = 1e0\n",
    "    for j in range(n):                                 # loop over columns\n",
    "      for i in range(j):                             # elements of matrix U\n",
    "         sum = a[i][j]\n",
    "         for k in range(i): sum -= a[i][k]*a[k][j]\n",
    "         a[i][j] = sum\n",
    "\n",
    "      amax = 0e0\n",
    "      for i in range(j,n):                           # elements of matrix L\n",
    "         sum = a[i][j]                                 # undivided by pivot\n",
    "         for k in range(j): sum -= a[i][k]*a[k][j]\n",
    "         a[i][j] = sum\n",
    "                                                            # determine pivot\n",
    "         if (amax < np.fabs(a[i][j])): amax = np.fabs(a[i][j]); imax = i\n",
    "\n",
    "      if (amax == 0e0): print(\"LUFactor: singular matrix !\"); return 0e0\n",
    "\n",
    "      ipivot[j] = imax                                # store pivot row index\n",
    "                                                # interchange rows imax and j\n",
    "      if (imax != j):                           # to put pivot on diagonal\n",
    "         det = -det\n",
    "         for k in range(n):\n",
    "            t = a[imax][k]; a[imax][k] = a[j][k]; a[j][k] = t\n",
    "\n",
    "      det *= a[j][j]                        # multiply determinant with pivot\n",
    "\n",
    "      t = 1e0/a[j][j]                         # divide elements of L by pivot\n",
    "      for i in range(j+1,n): a[i][j] *= t\n",
    "\n",
    "   return det\n",
    "\n",
    "#============================================================================\n",
    "def LUSystem(a, ipivot, b, n):\n",
    "# Copy right, code from Titus textbook. \n",
    "#----------------------------------------------------------------------------\n",
    "#  Solves linear system a x = b of order n by LU factorization.\n",
    "#  a      - LU decomposition of coefficient matrix (returned by LUFactor)\n",
    "#  ipivot - array of pivot row indexes (input)\n",
    "#  b      - vector of constant terms (input); solution x (on exit)\n",
    "#----------------------------------------------------------------------------\n",
    "   for i in range(n):                                     # solves Ly = b\n",
    "      sum = b[int(ipivot[i])]\n",
    "      b[int(ipivot[i])] = b[i]\n",
    "      for j in range(i): sum -= a[i][j]*b[j]\n",
    "      b[i] = sum\n",
    "\n",
    "   for i in range(n-1,-1,-1):                                    # solves Ux = y\n",
    "      sum = b[i]\n",
    "      for j in range(i+1,n): sum -= a[i][j]*b[j]\n",
    "      b[i] = sum/a[i][i]"
   ]
  },
  {
   "cell_type": "code",
   "execution_count": 52,
   "metadata": {},
   "outputs": [
    {
     "name": "stdout",
     "output_type": "stream",
     "text": [
      "[ 0.1729798  -0.87689394  4.13194444 -1.9084596 ]\n",
      "[-3.55271368e-15 -1.77635684e-15 -1.77635684e-15 -7.10542736e-15]\n"
     ]
    }
   ],
   "source": [
    "import numpy as np\n",
    "a=np.array([[9.,13.,5.,2.],[1.,11.,7.,6.],[3.,7.,4.,1.],[6.,1.,7.,10.]])\n",
    "b=np.array([7.,8.,9.,10.])\n",
    "aa=np.copy(a)    #deep copy of an array\n",
    "bb=np.copy(b)    #deep copy of an array\n",
    "ipivot=np.zeros(4)\n",
    "de=LUFactor(a,ipivot,4)\n",
    "LUSystem(a,ipivot,b,4)\n",
    "print(b)\n",
    "\n",
    "print(np.dot(aa,b)-bb)"
   ]
  },
  {
   "cell_type": "code",
   "execution_count": 53,
   "metadata": {},
   "outputs": [
    {
     "name": "stdout",
     "output_type": "stream",
     "text": [
      "x= [ 0.1729798  -0.87689394  4.13194444 -1.9084596 ]\n",
      "[-3.55271368e-15  0.00000000e+00  0.00000000e+00  0.00000000e+00]\n"
     ]
    }
   ],
   "source": [
    "\n",
    "import numpy as np\n",
    "a=np.array([[9.,13.,5.,2.],[1.,11.,7.,6.],[3.,7.,4.,1.],[6.,1.,7.,10.]])\n",
    "b=np.array([7.,8.,9.,10.])\n",
    "\n",
    "# Solve Ax=b directly\n",
    "x=np.linalg.solve(a,b)\n",
    "print('x=',x)\n",
    "print(np.dot(a,x)-b)"
   ]
  },
  {
   "cell_type": "code",
   "execution_count": 54,
   "metadata": {},
   "outputs": [],
   "source": [
    "#============================================================================\n",
    "def GaussSeidel(a, b, x, n, init):\n",
    "# Copy right, code from Titus textbook. \n",
    "#----------------------------------------------------------------------------\n",
    "#  Solves linear system a x = b by the Gauss-Seidel method.\n",
    "#  Convergence is ensure by left-multiplying the system with a^T.\n",
    "#  a    - coefficient matrix (n x n)\n",
    "#  b    - vector of constant terms\n",
    "#  x    - initial approximation of solution (input); solution (output)\n",
    "#  n    - order of system\n",
    "#  err  - maximum relative error of the solution components\n",
    "#  init - initialization option: 0 - refines initial approximation \n",
    "#                                1 - initializes solution\n",
    "#----------------------------------------------------------------------------\n",
    "   eps = 1e-15                                 # relative precision criterion\n",
    "   itmax = 10000                                    # max no. of iterations\n",
    "\n",
    "   s = [[0]*(n) for i in range(n)]           # matrices of reduced system\n",
    "   t = [0]*(n)\n",
    "\n",
    "   for i in range(n):                         # matrices of normal system\n",
    "      for j in range(i+1):                      # by multiplication with aT\n",
    "         s[i][j] = 0e0                            # store result in s and t\n",
    "         for k in range(n): s[i][j] += a[k][i]*a[k][j]\n",
    "         s[j][i] = s[i][j]\n",
    "\n",
    "      t[i] = 0e0\n",
    "      for j in range(n): t[i] += a[j][i]*b[j]\n",
    "\n",
    "   for i in range(n):                # matrices s and t of reduced system\n",
    "      f = -1e0/s[i][i]; t[i] /= s[i][i]\n",
    "      for j in range(n): s[i][j] *= f\n",
    "\n",
    "   if (init):\n",
    "      for i in range(n): x[i] = t[i]                # initialize solution\n",
    "\n",
    "   for k in range(itmax):                            # loop of iterations\n",
    "      err = 0e0\n",
    "      for i in range(n):\n",
    "         delta = t[i]                                            # correction\n",
    "         for j in range(n): delta += s[i][j]*x[j]\n",
    "         x[i] += delta                        # new approximation to solution\n",
    "         if (x[i]): delta /= x[i]                            # relative error\n",
    "         if (np.fabs(delta) > err): err = np.fabs(delta)            # maximum error\n",
    "       #  print('delta,err',delta,err)\n",
    "            \n",
    "      if (err <= eps): break                              # check convergence\n",
    "\n",
    "   if (k > itmax-2): print(\"GaussSeidel: max. no. of iterations exceeded !\")\n",
    "\n",
    "   return err"
   ]
  },
  {
   "cell_type": "code",
   "execution_count": 55,
   "metadata": {},
   "outputs": [
    {
     "name": "stdout",
     "output_type": "stream",
     "text": [
      "x= [ 0.1729798  -0.87689394  4.13194444 -1.9084596 ]\n",
      "[ 9.23705556e-14  6.75015599e-14 -2.27373675e-13 -3.01980663e-14]\n"
     ]
    }
   ],
   "source": [
    "import numpy as np\n",
    "a=np.array([[9.,13.,5.,2.],[1.,11.,7.,6.],[3.,7.,4.,1.],[6.,1.,7.,10.]])\n",
    "b=np.array([7.,8.,9.,10.])\n",
    "x=np.array([1.,1.,1.,1.])\n",
    "\n",
    "GaussSeidel(a, b, x, 4, 1)\n",
    "print('x=',x)\n",
    "print(np.dot(a,x)-b)"
   ]
  },
  {
   "cell_type": "code",
   "execution_count": 60,
   "metadata": {},
   "outputs": [
    {
     "name": "stdout",
     "output_type": "stream",
     "text": [
      "x= [ 1.  0.  0.  0.  0.  0.  0.  0. -0. -0. -0.  0.  0.  0. -0. -0.  0. -0.\n",
      " -0.  0.  0. -0.  0.  0.  0. -0. -0.  0. -0. -0. -0.  0.  0.  0.  0. -0.\n",
      " -0.  0. -0.  0. -0. -0. -0. -0.  0.  0.  0.  0. -0.  0.  0.  0.  0. -0.\n",
      "  0. -0.  0. -0. -0.  0.  0.  0.  0. -0.  0. -0. -0.  0.  0. -0. -0. -0.\n",
      " -0.  0. -0. -0. -0.  0.  0. -0. -0.  0. -0. -0. -0. -0.  0. -0. -0. -0.\n",
      " -0.  0.  0. -0. -0. -0.  0.  0.  0.  0.]\n",
      "Time  0.00048089027404785156\n",
      "GaussSeidel: max. no. of iterations exceeded !\n",
      "x= 0.0008542508607298887\n",
      "Time  0.22722196578979492\n",
      "x= [1.         0.5        0.33333333 0.25       0.2        0.16666667\n",
      " 0.14285714 0.125      0.11111111 0.1        0.09090909 0.08333333\n",
      " 0.07692308 0.07142857 0.06666667 0.0625     0.05882353 0.05555556\n",
      " 0.05263158 0.05       0.04761905 0.04545455 0.04347826 0.04166667\n",
      " 0.04       0.03846154 0.03703704 0.03571429 0.03448276 0.03333333\n",
      " 0.03225806 0.03125    0.03030303 0.02941176 0.02857143 0.02777778\n",
      " 0.02702703 0.02631579 0.02564103 0.025      0.02439024 0.02380952\n",
      " 0.02325581 0.02272727 0.02222222 0.02173913 0.0212766  0.02083333\n",
      " 0.02040816 0.02       0.01960784 0.01923077 0.01886792 0.01851852\n",
      " 0.01818182 0.01785714 0.01754386 0.01724138 0.01694915 0.01666667\n",
      " 0.01639344 0.01612903 0.01587302 0.015625   0.01538462 0.01515152\n",
      " 0.01492537 0.01470588 0.01449275 0.01428571 0.01408451 0.01388889\n",
      " 0.01369863 0.01351351 0.01333333 0.01315789 0.01298701 0.01282051\n",
      " 0.01265823 0.0125     0.01234568 0.01219512 0.01204819 0.01190476\n",
      " 0.01176471 0.01162791 0.01149425 0.01136364 0.01123596 0.01111111\n",
      " 0.01098901 0.01086957 0.01075269 0.0106383  0.01052632 0.01041667\n",
      " 0.01030928 0.01020408 0.01010101 0.01      ]\n",
      "Time  1.9073486328125e-05\n"
     ]
    }
   ],
   "source": [
    "import numpy as np\n",
    "import time\n",
    "N=100\n",
    "A=np.zeros((N,N),float)\n",
    "B=np.zeros(N,float)\n",
    "for i in range(N):\n",
    "    for j in range(N):\n",
    "        A[i,j]=1./(i+j+1.)\n",
    "        \n",
    "for i in range(N):\n",
    "    B[i]=1./(i+1)\n",
    "\n",
    "start = time.time()\n",
    "# write one line of code to solve Ax=B using linalg package \n",
    "x = np.linalg.solve(A,B)\n",
    "\n",
    "end = time.time()\n",
    "print('x=',x)\n",
    "print('Time ',end-start)\n",
    "\n",
    "x=np.ones(N)\n",
    "start2 = time.time()\n",
    "# write one line of code to solve Ax=B using Gauss-Siedel method \n",
    "x = GaussSeidel(A, B, x, 4, 1)\n",
    "\n",
    "end2 = time.time()\n",
    "print('x=',x)\n",
    "print('Time ',end2-start2)\n",
    "\n",
    "ipivot=np.zeros(N)\n",
    "start3 = time.time()\n",
    "# write two lines of code to solve Ax=B with LU decomposition\n",
    "\n",
    "\n",
    "end3 = time.time()\n",
    "print('x=',B)\n",
    "print('Time ',end3-start3)"
   ]
  },
  {
   "cell_type": "code",
   "execution_count": 65,
   "metadata": {},
   "outputs": [
    {
     "data": {
      "text/html": [
       "<div id=\"glowscript\" class=\"glowscript\"></div>"
      ],
      "text/plain": [
       "<IPython.core.display.HTML object>"
      ]
     },
     "metadata": {},
     "output_type": "display_data"
    },
    {
     "data": {
      "application/javascript": [
       "if (typeof Jupyter !== \"undefined\") { window.__context = { glowscript_container: $(\"#glowscript\").removeAttr(\"id\")};}else{ element.textContent = ' ';}"
      ],
      "text/plain": [
       "<IPython.core.display.Javascript object>"
      ]
     },
     "metadata": {},
     "output_type": "display_data"
    },
    {
     "name": "stdout",
     "output_type": "stream",
     "text": [
      "Number of iterations =  8 \n",
      " Final Solution:\n",
      "x[ 0 ] =   0.7610026986802355\n",
      "x[ 1 ] =   0.26495380629721876\n",
      "x[ 2 ] =   0.8357058303073954\n",
      "x[ 3 ] =   0.6487487163497033\n",
      "x[ 4 ] =   0.9642611069149696\n",
      "x[ 5 ] =   0.5491773558227533\n",
      "x[ 6 ] =   17.160209645431618\n",
      "x[ 7 ] =   11.54527961917644\n",
      "x[ 8 ] =   20.2715779893147\n"
     ]
    }
   ],
   "source": [
    "\n",
    "\"\"\" From \"COMPUTATIONAL PHYSICS\", 3rd Ed, Enlarged Python eTextBook  \n",
    "    by RH Landau, MJ Paez, and CC Bordeianu\n",
    "    Copyright Wiley-VCH Verlag GmbH & Co. KGaA, Berlin;  Copyright R Landau,\n",
    "    Oregon State Unv, MJ Paez, Univ Antioquia, C Bordeianu, Univ Bucharest, 2015.\n",
    "    Support by National Science Foundation\"\"\"\n",
    "\n",
    "# NewtonNDanimate.py:      MultiDimension Newton Search\n",
    "from numpy import *\n",
    "from vpython import *\n",
    "from numpy.linalg import solve\n",
    "\n",
    "\n",
    "scene = canvas(title='String and masses configuration',\n",
    "     width=500, height=500) # set the camera\n",
    "\n",
    "tempe = curve(x=range(0,500),color=color.black)\n",
    "\n",
    "n = 9\n",
    "eps = 1e-3\n",
    "deriv = zeros( (n, n), float)\n",
    "f = zeros( (n), float)\n",
    "x = array([0.5, 0.5, 0.5, 0.5, 0.5, 0.5, 0.5, 1., 1., 1.])\n",
    "\n",
    "def plotconfig():\n",
    "    for obj in scene.objects:\n",
    "        obj.visible=0                  # Erase previous configuration\n",
    "    L1 = 3.0\n",
    "    L2 = 4.0\n",
    "    L3 = 4.0\n",
    "    xa = L1*x[3]                # L1*cos(th1)\n",
    "    ya = L1*x[0]                # L1 sin(th1)\n",
    "    xb = xa+L2*x[4]             # L1*cos(th1)+L2*cos(th2)\n",
    "    yb = ya+L2*x[1]             # L1*sin(th1)+L2*sen(th2)\n",
    "    xc = xb+L3*x[5]             # L1*cos(th1)+L2*cos(th2)+L3*cos(th3)\n",
    "    yc = yb-L3*x[2]             # L1*sin(th1)+L2*sen(th2)-L3*sin(th3)\n",
    "    mx = 100.0                  # for linear coordinate transformation\n",
    "    bx = -500.0                 # from 0=< x =<10\n",
    "    my = -100.0                 # to    -500 =<x_window=>500\n",
    "    by = 400.0                  # same transformation for y\n",
    "    xap = mx*xa+bx              # to keep aspect ratio\n",
    "    yap = my*ya+by\n",
    "    ball1 = sphere(pos=vector(xap,yap,0), color=color.cyan,radius=15) \n",
    "    xbp = mx*xb+bx\n",
    "    ybp = my*yb+by\n",
    "    ball2 = sphere(pos=vector(xbp,ybp,0), color=color.cyan,radius=25) \n",
    "    xcp = mx*xc+bx\n",
    "    ycp = my*yc+by\n",
    "    x0 = mx*0+bx\n",
    "    y0 = my*0+by\n",
    "    line1 = curve(pos=[vector(x0,y0,0),vector(xap,yap,0)], color=color.yellow,radius=4)\n",
    "    line2 = curve(pos=[vector(xap,yap,0),vector(xbp,ybp,0)], color=color.yellow,radius=4)\n",
    "    line3 = curve(pos=[vector(xbp,ybp,0),vector(xcp,ycp,0)], color=color.yellow,radius=4)\n",
    "    topline = curve(pos=[vector(x0,y0,0),vector(xcp,ycp,0)], color=color.red,radius=4)\n",
    "\n",
    "def F(x, f):                                       # F function\n",
    "    f[0] = 3*x[3]  +  4*x[4]  +  4*x[5]  -  8.0\n",
    "    f[1] = 3*x[0]  +  4*x[1]  -  4*x[2]\n",
    "    f[2] = x[6]*x[0]  -  x[7]*x[1]  -  10.0\n",
    "    f[3] = x[6]*x[3]  -  x[7]*x[4]\n",
    "    f[4] = x[7]*x[1]  +  x[8]*x[2]  -  20.0\n",
    "    f[5] = x[7]*x[4]  -  x[8]*x[5]\n",
    "    f[6] = pow(x[0], 2)  +  pow(x[3], 2)  -  1.0\n",
    "    f[7] = pow(x[1], 2)  +  pow(x[4], 2)  -  1.0\n",
    "    f[8] = pow(x[2], 2)  +  pow(x[5], 2)  -  1.0\n",
    "    \n",
    "def dFi_dXj(x, deriv, n):                           # Derivatives\n",
    "    h = 1e-4                                             \n",
    "    for j in range(0, n):\n",
    "         temp = x[j]\n",
    "         x[j] = x[j] +  h/2.\n",
    "         F(x, f)                                                 \n",
    "         for i in range(0, n):  deriv[i, j] = f[i] \n",
    "         x[j] = temp\n",
    "    for j in range(0, n):\n",
    "         temp = x[j]\n",
    "         x[j] = x[j] - h/2.\n",
    "         F(x, f)\n",
    "         for i in range(0, n): deriv[i, j] = (deriv[i, j] - f[i])/h\n",
    "         x[j] = temp\n",
    "         \n",
    "for it in range(1, 100):\n",
    "      rate(1)                            # 1 second between graphs\n",
    "      F(x, f)                              \n",
    "      dFi_dXj(x, deriv, n)   \n",
    "      B = array([[-f[0]], [-f[1]], [-f[2]], [-f[3]], [-f[4]], [-f[5]],\\\n",
    "\t\t\t[-f[6]], [-f[7]], [-f[8]]])      \n",
    "      sol = solve(deriv, B)\n",
    "      dx = sol#take(sol, (0, ), 1)               # First column of sol\n",
    "      for i in range(0, n):\n",
    "        x[i]  = x[i]  +  dx[i]\n",
    "      plotconfig()\n",
    "      errX = errF = errXi = 0.0\n",
    "      endi=0\n",
    "      for i in range(0, n):\n",
    "        if ( x[i] !=  0.): errXi = abs(dx[i]/x[i])\n",
    "        else:  errXi = abs(dx[i])\n",
    "        if ( errXi > errX): errX = errXi                            \n",
    "        if ( abs(f[i]) > errF ):  errF = abs(f[i])        \n",
    "        if ( (errX <=  eps) and (errF <=  eps) ): endi=1\n",
    "      if(endi==1): break  \n",
    "      \n",
    "print('Number of iterations = ', it, \"\\n Final Solution:\")\n",
    "for i in range(0, n):\n",
    "        print('x[', i, '] =  ', x[i])"
   ]
  },
  {
   "cell_type": "code",
   "execution_count": 68,
   "metadata": {},
   "outputs": [
    {
     "name": "stdout",
     "output_type": "stream",
     "text": [
      "[[ 0.66666667 -0.25      ]\n",
      " [-0.25        0.66666667]]\n",
      "Eigenvalues [0.91666667 0.41666667] \n",
      " Eigenmatrix [[ 0.70710678  0.70710678]\n",
      " [-0.70710678  0.70710678]]\n",
      "Eigenvector [ 0.70710678 -0.70710678] [0.70710678 0.70710678]\n"
     ]
    }
   ],
   "source": [
    "import numpy as np\n",
    "I=np.array([[2./3.,-1./4.],[-1./4.,2./3.]])\n",
    "print(I)\n",
    "eigenvalues, eigenmatrix = np.linalg.eig(I)\n",
    "print('Eigenvalues', eigenvalues, '\\n Eigenmatrix', eigenmatrix)\n",
    "print('Eigenvector',eigenmatrix[:,0],eigenmatrix[:,1])"
   ]
  },
  {
   "cell_type": "code",
   "execution_count": 69,
   "metadata": {},
   "outputs": [
    {
     "name": "stdout",
     "output_type": "stream",
     "text": [
      "LHS-RHS [ 1.11022302e-16 -1.11022302e-16]\n",
      "[ 0.70710678 -0.70710678]\n",
      "[ 0.70710678 -0.70710678]\n"
     ]
    }
   ],
   "source": [
    "import numpy as np\n",
    "\n",
    "eigenvector1=np.array([eigenmatrix[0,0],eigenmatrix[1,0]])\n",
    "LHS = np.dot(I,eigenvector1)\n",
    "RHS = eigenvector1*eigenvalues[0]\n",
    "print('LHS-RHS',LHS-RHS)\n",
    "\n",
    "print(eigenvector1)\n",
    "# an easier way to get the first coloumn\n",
    "print(eigenmatrix[:,0])"
   ]
  },
  {
   "cell_type": "code",
   "execution_count": 73,
   "metadata": {},
   "outputs": [
    {
     "ename": "TypeError",
     "evalue": "'module' object is not callable",
     "output_type": "error",
     "traceback": [
      "\u001b[0;31m---------------------------------------------------------------------------\u001b[0m",
      "\u001b[0;31mTypeError\u001b[0m                                 Traceback (most recent call last)",
      "\u001b[0;32m<ipython-input-73-0fd3ae0183c7>\u001b[0m in \u001b[0;36m<module>\u001b[0;34m()\u001b[0m\n\u001b[1;32m      1\u001b[0m \u001b[0mI\u001b[0m\u001b[0;34m=\u001b[0m\u001b[0mnp\u001b[0m\u001b[0;34m.\u001b[0m\u001b[0marray\u001b[0m\u001b[0;34m(\u001b[0m\u001b[0;34m[\u001b[0m\u001b[0;34m[\u001b[0m\u001b[0;36m1\u001b[0m\u001b[0;34m,\u001b[0m\u001b[0;34m-\u001b[0m\u001b[0;36m3\u001b[0m\u001b[0;34m,\u001b[0m\u001b[0;36m3\u001b[0m\u001b[0;34m]\u001b[0m\u001b[0;34m,\u001b[0m\u001b[0;34m[\u001b[0m\u001b[0;36m3\u001b[0m\u001b[0;34m,\u001b[0m\u001b[0;34m-\u001b[0m\u001b[0;36m5\u001b[0m\u001b[0;34m,\u001b[0m\u001b[0;36m3\u001b[0m\u001b[0;34m]\u001b[0m\u001b[0;34m,\u001b[0m\u001b[0;34m[\u001b[0m\u001b[0;36m6\u001b[0m\u001b[0;34m,\u001b[0m\u001b[0;34m-\u001b[0m\u001b[0;36m6\u001b[0m\u001b[0;34m,\u001b[0m\u001b[0;36m4\u001b[0m\u001b[0;34m]\u001b[0m\u001b[0;34m]\u001b[0m\u001b[0;34m)\u001b[0m\u001b[0;34m\u001b[0m\u001b[0m\n\u001b[0;32m----> 2\u001b[0;31m \u001b[0meigenvalues\u001b[0m\u001b[0;34m,\u001b[0m\u001b[0meigenmatrix\u001b[0m \u001b[0;34m=\u001b[0m \u001b[0mnp\u001b[0m\u001b[0;34m.\u001b[0m\u001b[0mlinalg\u001b[0m\u001b[0;34m(\u001b[0m\u001b[0mI\u001b[0m\u001b[0;34m)\u001b[0m\u001b[0;34m\u001b[0m\u001b[0m\n\u001b[0m",
      "\u001b[0;31mTypeError\u001b[0m: 'module' object is not callable"
     ]
    }
   ],
   "source": [
    "I=np.array([[1,-3,3],[3,-5,3],[6,-6,4]])\n",
    "eigenvalues,eigenmatrix = np.linalg(I)\n"
   ]
  },
  {
   "cell_type": "code",
   "execution_count": null,
   "metadata": {},
   "outputs": [],
   "source": []
  }
 ],
 "metadata": {
  "kernelspec": {
   "display_name": "Python 3",
   "language": "python",
   "name": "python3"
  },
  "language_info": {
   "codemirror_mode": {
    "name": "ipython",
    "version": 3
   },
   "file_extension": ".py",
   "mimetype": "text/x-python",
   "name": "python",
   "nbconvert_exporter": "python",
   "pygments_lexer": "ipython3",
   "version": "3.6.5"
  }
 },
 "nbformat": 4,
 "nbformat_minor": 2
}
